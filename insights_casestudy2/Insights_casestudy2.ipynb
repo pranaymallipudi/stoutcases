{
 "cells": [
  {
   "cell_type": "markdown",
   "id": "162a23f5",
   "metadata": {},
   "source": [
    "# Analysis of customers orders data"
   ]
  },
  {
   "cell_type": "markdown",
   "id": "3b9665e9",
   "metadata": {},
   "source": [
    "For python code please refer https://github.com/pranaymallipudi/stoutcases/blob/main/insights_casestudy2"
   ]
  },
  {
   "cell_type": "code",
   "execution_count": 230,
   "id": "4b32ae9d",
   "metadata": {},
   "outputs": [],
   "source": [
    "import pandas as pd\n",
    "import numpy as np\n",
    "from matplotlib import pyplot as plt\n",
    "import seaborn as sns\n",
    "import os\n",
    "import warnings\n",
    "import matplotlib.patches as mpatches\n",
    "warnings.filterwarnings(\"ignore\")\n",
    "\n"
   ]
  },
  {
   "cell_type": "markdown",
   "id": "4b06599b",
   "metadata": {},
   "source": [
    "- The dataset contains information about customer orders. It has 3 important columns.\n",
    "    - Customer_email: email id of customer. Unique in a given year\n",
    "    - net_revenue: net revenue generated from each customer in a given year\n",
    "    - year: year from which data is from\n",
    "- Dataset has 685,927 observations"
   ]
  },
  {
   "cell_type": "markdown",
   "id": "d61f68f9",
   "metadata": {},
   "source": [
    "### Read the raw data"
   ]
  },
  {
   "cell_type": "code",
   "execution_count": 231,
   "id": "b6bb3401",
   "metadata": {},
   "outputs": [],
   "source": [
    "raw = pd.read_csv('casestudy.csv',index_col = 0)"
   ]
  },
  {
   "cell_type": "code",
   "execution_count": 232,
   "id": "8c339a39",
   "metadata": {},
   "outputs": [
    {
     "data": {
      "text/html": [
       "<div>\n",
       "<style scoped>\n",
       "    .dataframe tbody tr th:only-of-type {\n",
       "        vertical-align: middle;\n",
       "    }\n",
       "\n",
       "    .dataframe tbody tr th {\n",
       "        vertical-align: top;\n",
       "    }\n",
       "\n",
       "    .dataframe thead th {\n",
       "        text-align: right;\n",
       "    }\n",
       "</style>\n",
       "<table border=\"1\" class=\"dataframe\">\n",
       "  <thead>\n",
       "    <tr style=\"text-align: right;\">\n",
       "      <th></th>\n",
       "      <th>customer_email</th>\n",
       "      <th>net_revenue</th>\n",
       "      <th>year</th>\n",
       "    </tr>\n",
       "  </thead>\n",
       "  <tbody>\n",
       "    <tr>\n",
       "      <th>0</th>\n",
       "      <td>nhknapwsbx@gmail.com</td>\n",
       "      <td>249.92</td>\n",
       "      <td>2015</td>\n",
       "    </tr>\n",
       "    <tr>\n",
       "      <th>1</th>\n",
       "      <td>joiuzbvcpn@gmail.com</td>\n",
       "      <td>87.61</td>\n",
       "      <td>2015</td>\n",
       "    </tr>\n",
       "    <tr>\n",
       "      <th>2</th>\n",
       "      <td>ukkjctepxt@gmail.com</td>\n",
       "      <td>168.38</td>\n",
       "      <td>2015</td>\n",
       "    </tr>\n",
       "    <tr>\n",
       "      <th>3</th>\n",
       "      <td>gykatilzrt@gmail.com</td>\n",
       "      <td>62.40</td>\n",
       "      <td>2015</td>\n",
       "    </tr>\n",
       "    <tr>\n",
       "      <th>4</th>\n",
       "      <td>mmsgsrtxah@gmail.com</td>\n",
       "      <td>43.08</td>\n",
       "      <td>2015</td>\n",
       "    </tr>\n",
       "  </tbody>\n",
       "</table>\n",
       "</div>"
      ],
      "text/plain": [
       "          customer_email  net_revenue  year\n",
       "0   nhknapwsbx@gmail.com       249.92  2015\n",
       "1   joiuzbvcpn@gmail.com        87.61  2015\n",
       "2   ukkjctepxt@gmail.com       168.38  2015\n",
       "3   gykatilzrt@gmail.com        62.40  2015\n",
       "4   mmsgsrtxah@gmail.com        43.08  2015"
      ]
     },
     "execution_count": 232,
     "metadata": {},
     "output_type": "execute_result"
    }
   ],
   "source": [
    "raw.head()"
   ]
  },
  {
   "cell_type": "code",
   "execution_count": 233,
   "id": "c8c75541",
   "metadata": {},
   "outputs": [],
   "source": [
    "total_rev = raw.groupby(['year']).agg({'net_revenue':['sum','mean']})"
   ]
  },
  {
   "cell_type": "code",
   "execution_count": 234,
   "id": "09915997",
   "metadata": {},
   "outputs": [],
   "source": [
    "total_rev.columns = [total_rev.columns[0][0]+'_'+total_rev.columns[0][1],\\\n",
    "                     total_rev.columns[1][0]+'_'+total_rev.columns[1][1]]\n",
    "\n",
    "total_rev.reset_index(inplace = True)"
   ]
  },
  {
   "cell_type": "markdown",
   "id": "3ae371d4",
   "metadata": {},
   "source": [
    "#### Total revenue fluctuated but not average per customer"
   ]
  },
  {
   "cell_type": "markdown",
   "id": "12ab44fe",
   "metadata": {},
   "source": [
    "- We can see from below graph, that total revenue decreased from 2015-2016 and then increased from 2016-2017 but there is no significant difference from average revenue per customer"
   ]
  },
  {
   "cell_type": "code",
   "execution_count": 235,
   "id": "677feab7",
   "metadata": {},
   "outputs": [
    {
     "data": {
      "image/png": "[encoded data removed]",
      "text/plain": [
       "<Figure size 720x360 with 2 Axes>"
      ]
     },
     "metadata": {
      "needs_background": "light"
     },
     "output_type": "display_data"
    }
   ],
   "source": [
    "fig,axes = plt.subplots(1,2,figsize=(10,5))\n",
    "sns.barplot(ax = axes[0],data=total_rev,x='year',y='net_revenue_sum')\n",
    "sns.barplot(ax = axes[1],data=total_rev,x='year',y='net_revenue_mean')\n",
    "plt.show()"
   ]
  },
  {
   "cell_type": "markdown",
   "id": "7994c18c",
   "metadata": {},
   "source": [
    "#### No outliers and skewness"
   ]
  },
  {
   "cell_type": "markdown",
   "id": "570e4ab8",
   "metadata": {},
   "source": [
    "- Box plot shows that there are no unusual values in the net_revenue that might be causing the same average across years\n",
    "- As these box plots are very similar to each, let's see how overall distribution of net_revenue looks like"
   ]
  },
  {
   "cell_type": "code",
   "execution_count": 236,
   "id": "6f2b8249",
   "metadata": {
    "scrolled": true
   },
   "outputs": [
    {
     "data": {
      "image/png": "[encoded data removed]",
      "text/plain": [
       "<Figure size 432x288 with 1 Axes>"
      ]
     },
     "metadata": {
      "needs_background": "light"
     },
     "output_type": "display_data"
    }
   ],
   "source": [
    "sns.boxplot(data=raw,y='net_revenue',x=\"year\")\n",
    "plt.show()"
   ]
  },
  {
   "cell_type": "markdown",
   "id": "93a474ee",
   "metadata": {},
   "source": [
    "- Distribution plot shows almost uniform distribution of net_income"
   ]
  },
  {
   "cell_type": "code",
   "execution_count": 237,
   "id": "b22a630e",
   "metadata": {
    "scrolled": true
   },
   "outputs": [
    {
     "data": {
      "image/png": "[encoded data removed]",
      "text/plain": [
       "<Figure size 432x288 with 1 Axes>"
      ]
     },
     "metadata": {
      "needs_background": "light"
     },
     "output_type": "display_data"
    }
   ],
   "source": [
    "sns.distplot(raw['net_revenue'])\n",
    "plt.show()"
   ]
  },
  {
   "cell_type": "markdown",
   "id": "3c041c63",
   "metadata": {},
   "source": [
    "#### Let's see how many loyal customers do we have. Loyalty is defined by customers who are with across across years"
   ]
  },
  {
   "cell_type": "markdown",
   "id": "e31fabbf",
   "metadata": {},
   "source": [
    "- As we can see from below graph number of customers who continued with us across years are very less\n",
    "    - About 90% of customers are one time customers"
   ]
  },
  {
   "cell_type": "code",
   "execution_count": 238,
   "id": "25f0e628",
   "metadata": {},
   "outputs": [],
   "source": [
    "rep_cust = raw.groupby('customer_email')['customer_email'].count().value_counts(normalize=True)*100"
   ]
  },
  {
   "cell_type": "code",
   "execution_count": 239,
   "id": "f72bad4b",
   "metadata": {},
   "outputs": [
    {
     "data": {
      "image/png": "[encoded data removed]",
      "text/plain": [
       "<Figure size 432x288 with 1 Axes>"
      ]
     },
     "metadata": {
      "needs_background": "light"
     },
     "output_type": "display_data"
    }
   ],
   "source": [
    "sns.barplot(x=rep_cust.index,y=rep_cust.values)\n",
    "plt.xticks([0,1,2],labels = ['1 year','2 years','all years'])\n",
    "plt.title('Number of customers who placed orders in only 1 year, both 2 years and all 3 years')\n",
    "plt.ylabel('Number of customers')\n",
    "plt.show()"
   ]
  },
  {
   "cell_type": "markdown",
   "id": "05fee899",
   "metadata": {},
   "source": [
    "### Now let's do basic EDA on dataset"
   ]
  },
  {
   "cell_type": "markdown",
   "id": "2a0eae32",
   "metadata": {},
   "source": [
    "#### Check data types"
   ]
  },
  {
   "cell_type": "code",
   "execution_count": 240,
   "id": "3848f41c",
   "metadata": {
    "scrolled": true
   },
   "outputs": [
    {
     "name": "stdout",
     "output_type": "stream",
     "text": [
      "(685927, 3)\n",
      "customer_email     object\n",
      "net_revenue       float64\n",
      "year                int64\n",
      "dtype: object\n"
     ]
    }
   ],
   "source": [
    "print(raw.shape)\n",
    "print(raw.dtypes)"
   ]
  },
  {
   "cell_type": "markdown",
   "id": "cad388bc",
   "metadata": {},
   "source": [
    "#### Describe the dataset"
   ]
  },
  {
   "cell_type": "code",
   "execution_count": 241,
   "id": "b4ac24a8",
   "metadata": {
    "scrolled": true
   },
   "outputs": [
    {
     "data": {
      "text/html": [
       "<div>\n",
       "<style scoped>\n",
       "    .dataframe tbody tr th:only-of-type {\n",
       "        vertical-align: middle;\n",
       "    }\n",
       "\n",
       "    .dataframe tbody tr th {\n",
       "        vertical-align: top;\n",
       "    }\n",
       "\n",
       "    .dataframe thead th {\n",
       "        text-align: right;\n",
       "    }\n",
       "</style>\n",
       "<table border=\"1\" class=\"dataframe\">\n",
       "  <thead>\n",
       "    <tr style=\"text-align: right;\">\n",
       "      <th></th>\n",
       "      <th>customer_email</th>\n",
       "      <th>net_revenue</th>\n",
       "      <th>year</th>\n",
       "    </tr>\n",
       "  </thead>\n",
       "  <tbody>\n",
       "    <tr>\n",
       "      <th>count</th>\n",
       "      <td>685927</td>\n",
       "      <td>685,927.00</td>\n",
       "      <td>685,927.00</td>\n",
       "    </tr>\n",
       "    <tr>\n",
       "      <th>unique</th>\n",
       "      <td>604618</td>\n",
       "      <td>NaN</td>\n",
       "      <td>NaN</td>\n",
       "    </tr>\n",
       "    <tr>\n",
       "      <th>top</th>\n",
       "      <td>qficxgsahc@gmail.com</td>\n",
       "      <td>NaN</td>\n",
       "      <td>NaN</td>\n",
       "    </tr>\n",
       "    <tr>\n",
       "      <th>freq</th>\n",
       "      <td>3</td>\n",
       "      <td>NaN</td>\n",
       "      <td>NaN</td>\n",
       "    </tr>\n",
       "    <tr>\n",
       "      <th>mean</th>\n",
       "      <td>NaN</td>\n",
       "      <td>125.65</td>\n",
       "      <td>2,016.03</td>\n",
       "    </tr>\n",
       "    <tr>\n",
       "      <th>std</th>\n",
       "      <td>NaN</td>\n",
       "      <td>71.85</td>\n",
       "      <td>0.84</td>\n",
       "    </tr>\n",
       "    <tr>\n",
       "      <th>min</th>\n",
       "      <td>NaN</td>\n",
       "      <td>1.00</td>\n",
       "      <td>2,015.00</td>\n",
       "    </tr>\n",
       "    <tr>\n",
       "      <th>25%</th>\n",
       "      <td>NaN</td>\n",
       "      <td>63.51</td>\n",
       "      <td>2,015.00</td>\n",
       "    </tr>\n",
       "    <tr>\n",
       "      <th>50%</th>\n",
       "      <td>NaN</td>\n",
       "      <td>125.73</td>\n",
       "      <td>2,016.00</td>\n",
       "    </tr>\n",
       "    <tr>\n",
       "      <th>75%</th>\n",
       "      <td>NaN</td>\n",
       "      <td>187.82</td>\n",
       "      <td>2,017.00</td>\n",
       "    </tr>\n",
       "    <tr>\n",
       "      <th>max</th>\n",
       "      <td>NaN</td>\n",
       "      <td>250.00</td>\n",
       "      <td>2,017.00</td>\n",
       "    </tr>\n",
       "  </tbody>\n",
       "</table>\n",
       "</div>"
      ],
      "text/plain": [
       "              customer_email  net_revenue       year\n",
       "count                 685927   685,927.00 685,927.00\n",
       "unique                604618          NaN        NaN\n",
       "top     qficxgsahc@gmail.com          NaN        NaN\n",
       "freq                       3          NaN        NaN\n",
       "mean                     NaN       125.65   2,016.03\n",
       "std                      NaN        71.85       0.84\n",
       "min                      NaN         1.00   2,015.00\n",
       "25%                      NaN        63.51   2,015.00\n",
       "50%                      NaN       125.73   2,016.00\n",
       "75%                      NaN       187.82   2,017.00\n",
       "max                      NaN       250.00   2,017.00"
      ]
     },
     "execution_count": 241,
     "metadata": {},
     "output_type": "execute_result"
    }
   ],
   "source": [
    "raw.describe(include='all')"
   ]
  },
  {
   "cell_type": "markdown",
   "id": "1ad99128",
   "metadata": {},
   "source": [
    "#### Check for missing values in the dataset"
   ]
  },
  {
   "cell_type": "markdown",
   "id": "b134d727",
   "metadata": {},
   "source": [
    "- No missing values in the dataset"
   ]
  },
  {
   "cell_type": "code",
   "execution_count": 242,
   "id": "d7fc6bd6",
   "metadata": {
    "scrolled": true
   },
   "outputs": [
    {
     "data": {
      "text/plain": [
       "customer_email   0.00\n",
       "net_revenue      0.00\n",
       "year             0.00\n",
       "dtype: float64"
      ]
     },
     "execution_count": 242,
     "metadata": {},
     "output_type": "execute_result"
    }
   ],
   "source": [
    "raw.isnull().mean()"
   ]
  },
  {
   "cell_type": "markdown",
   "id": "0d056f5b",
   "metadata": {},
   "source": [
    "### 1. total revenue for the current year"
   ]
  },
  {
   "cell_type": "code",
   "execution_count": 243,
   "id": "3775c035",
   "metadata": {},
   "outputs": [],
   "source": [
    "revenue_by_year = raw.groupby('year')[['net_revenue']].sum().reset_index()"
   ]
  },
  {
   "cell_type": "code",
   "execution_count": 244,
   "id": "faa37a3f",
   "metadata": {},
   "outputs": [],
   "source": [
    "#revenue_by_year"
   ]
  },
  {
   "cell_type": "code",
   "execution_count": 245,
   "id": "c12a19b5",
   "metadata": {
    "scrolled": false
   },
   "outputs": [
    {
     "name": "stdout",
     "output_type": "stream",
     "text": [
      "The revenue for 2015 is 29036749.19\n",
      "The revenue for 2016 is 25730943.59\n",
      "The revenue for 2017 is 31417495.03\n"
     ]
    }
   ],
   "source": [
    "\n",
    "for i in revenue_by_year.index:\n",
    "     print(f'The revenue for {revenue_by_year.year[i]} is {revenue_by_year.net_revenue[i]:.2f}' )"
   ]
  },
  {
   "cell_type": "code",
   "execution_count": 246,
   "id": "dca47572",
   "metadata": {},
   "outputs": [],
   "source": [
    "##using cross tab method\n",
    "#pd.crosstab(raw.year,raw.net_revenue,values = raw.net_revenue,aggfunc='sum',margins='index')[['All']]"
   ]
  },
  {
   "cell_type": "markdown",
   "id": "977563cc",
   "metadata": {},
   "source": [
    "### 2.New Customer Revenue "
   ]
  },
  {
   "cell_type": "markdown",
   "id": "10495096",
   "metadata": {},
   "source": [
    "Logic: \n",
    "- Get new customers by removing all the email ids in current year which are also present in previous year"
   ]
  },
  {
   "cell_type": "code",
   "execution_count": 247,
   "id": "3a1a022a",
   "metadata": {},
   "outputs": [
    {
     "name": "stdout",
     "output_type": "stream",
     "text": [
      "The new customer revenue from year 2016 is 18245491.01\n",
      "The new customer revenue from year 2017 is 28776235.04\n"
     ]
    }
   ],
   "source": [
    "new_cust_a = pd.DataFrame(columns = ['year','net_revenue'])\n",
    "for i in range(1,len(raw.year.unique())):\n",
    "    cust_uniq_curyear = list(raw[raw['year']==raw.year.unique()[i]].customer_email.unique())\n",
    "    cust_uniq_prevyear = list(raw[raw['year']==raw.year.unique()[i-1]].customer_email.unique())\n",
    "    new_cust = list(set(cust_uniq_curyear)-set(cust_uniq_prevyear))\n",
    "    new_cust_df = raw[(raw['year']==raw.year.unique()[i]) & (raw['customer_email'].isin(new_cust))]\\\n",
    "    .groupby('year')[['net_revenue']].sum().reset_index()\n",
    "    print(f'The new customer revenue from year {raw.year.unique()[i]} is {new_cust_df.net_revenue[0]:.2f}' )\n",
    "    new_cust_a = new_cust_a.append(new_cust_df,ignore_index=True)\n",
    "new_cust_a.rename(columns = {'net_revenue':'new_cust_revenue'},inplace=True)"
   ]
  },
  {
   "cell_type": "markdown",
   "id": "8dc94b09",
   "metadata": {},
   "source": [
    "### 3.Existing Customer Growth"
   ]
  },
  {
   "cell_type": "markdown",
   "id": "64dfa27b",
   "metadata": {},
   "source": [
    "Logic: \n",
    "- Existing customers are customers from last year who are also present in this year\n",
    "- Filter above customers in previous year to get customers who continued till next year\n",
    "- Get the revenue of same customer set from both current and previous years and take the difference\n"
   ]
  },
  {
   "cell_type": "code",
   "execution_count": 248,
   "id": "72dd97be",
   "metadata": {},
   "outputs": [
    {
     "name": "stdout",
     "output_type": "stream",
     "text": [
      "The existing customer growth from 2015 to 2016 is 20335.46\n",
      "The existing customer growth from 2016 to 2017 is 20611.34\n"
     ]
    }
   ],
   "source": [
    "growth_df_a = pd.DataFrame()\n",
    "for i in range(1,len(raw.year.unique())):\n",
    "    cust_uniq_prevyear = list(raw[raw['year']==raw.year.unique()[i-1]].customer_email.unique())\n",
    "    exist_cust_curyear_df = raw[(raw['year']==raw.year.unique()[i])&(raw['customer_email'].isin(cust_uniq_prevyear))]\n",
    "    rev_exist_cust_curyear = exist_cust_curyear_df.groupby('year')[['net_revenue']].sum().reset_index()\n",
    "\n",
    "    exist_cust_prevyear_df = raw[(raw['year']==raw.year.unique()[i-1]) &(raw['customer_email'].\\\n",
    "                                                      isin(list(exist_cust_curyear_df.customer_email.unique()))) ]\n",
    "    rev_exist_cust_prevyear = exist_cust_prevyear_df.groupby('year')[['net_revenue']].sum().reset_index()\n",
    "\n",
    "    growth = rev_exist_cust_curyear['net_revenue'][0]-rev_exist_cust_prevyear['net_revenue'][0]\n",
    "    growth_df = pd.DataFrame({'year':[raw.year.unique()[i]],'exist_cust_growth':[growth],\\\n",
    "                             'current_revenue_exist_cust':[rev_exist_cust_curyear['net_revenue'][0]],\\\n",
    "                              'prev_revenue_exist_cust':[rev_exist_cust_prevyear['net_revenue'][0]]})\n",
    "    growth_df_a = growth_df_a.append(growth_df,ignore_index=True)\n",
    "    print(f'The existing customer growth from {raw.year.unique()[i-1]} to {raw.year.unique()[i]} is {growth:.2f}' )\n"
   ]
  },
  {
   "cell_type": "markdown",
   "id": "a80edd81",
   "metadata": {},
   "source": [
    "### 4.Revenue lost from attrition\n",
    "Logic\n",
    "- Total revenue of customers from previous year who didn't continue in current year\n",
    "- We assume that they would have generated same revenue in current year if they had continued\n",
    "- Since they didn't continue we can say that we lost the amount of revenue which is equal to amount of revenue they generated in previous year"
   ]
  },
  {
   "cell_type": "code",
   "execution_count": 249,
   "id": "925a7624",
   "metadata": {},
   "outputs": [
    {
     "name": "stdout",
     "output_type": "stream",
     "text": [
      "Revenue lost from attrition in year 2016,i.e the customers who didn't continue from 2015  is 21571632.07\n",
      "Revenue lost from attrition in year 2017,i.e the customers who didn't continue from 2016  is 23110294.94\n"
     ]
    }
   ],
   "source": [
    "lost_cust_a = pd.DataFrame(columns = ['year','net_revenue'])\n",
    "for i in range(1,len(raw.year.unique())):\n",
    "    cust_uniq_curyear = list(raw[raw['year']==raw.year.unique()[i]].customer_email.unique())\n",
    "    cust_uniq_prevyear = list(raw[raw['year']==raw.year.unique()[i-1]].customer_email.unique())\n",
    "    lost_cust = list(set(cust_uniq_prevyear)-set(cust_uniq_curyear))\n",
    "    lost_cust_df = raw[(raw['year']==raw.year.unique()[i-1]) & (raw['customer_email'].isin(lost_cust))]\\\n",
    "    .groupby('year')[['net_revenue']].sum().reset_index()\n",
    "    lost_cust_df.iloc[0,0] = lost_cust_df.iloc[0,0]+1\n",
    "    print(f\"Revenue lost from attrition in year {raw.year.unique()[i]},i.e the customers who didn't continue from {raw.year.unique()[i-1]}  is {lost_cust_df.net_revenue[0]:.2f}\" )\n",
    "    lost_cust_a = lost_cust_a.append(lost_cust_df,ignore_index=True)\n",
    "lost_cust_a.rename(columns = {'net_revenue':'lost_cust_revenue'},inplace=True)\n"
   ]
  },
  {
   "cell_type": "markdown",
   "id": "69ce7a4a",
   "metadata": {},
   "source": [
    "### 5.Existing Customer Revenue Current Year & 6.Existing Customer Revenue Prior Year"
   ]
  },
  {
   "cell_type": "markdown",
   "id": "ce31e3f2",
   "metadata": {},
   "source": [
    "Logic\n",
    "- Existing customer revenue current year: Revenue of customers who continued from past year to current\n",
    "- Existing customer revenue prior year: Revenue of same above customers but in past year"
   ]
  },
  {
   "cell_type": "code",
   "execution_count": 250,
   "id": "32d19826",
   "metadata": {},
   "outputs": [
    {
     "name": "stdout",
     "output_type": "stream",
     "text": [
      "The existing customer revenue in current year 2016  is 7485452.58\n",
      "The existing customer revenue in previous year 2015  is 7465117.12\n",
      "The existing customer revenue in current year 2017  is 2641259.99\n",
      "The existing customer revenue in previous year 2016  is 2620648.65\n"
     ]
    }
   ],
   "source": [
    "for i in range(1,len(raw.year.unique())):\n",
    "    cust_uniq_prevyear = list(raw[raw['year']==raw.year.unique()[i-1]].customer_email.unique())\n",
    "    exist_cust_curyear_df = raw[(raw['year']==raw.year.unique()[i])&(raw['customer_email'].isin(cust_uniq_prevyear))]\n",
    "    rev_exist_cust_curyear = exist_cust_curyear_df.groupby('year')[['net_revenue']].sum().reset_index()\n",
    "\n",
    "    exist_cust_prevyear_df = raw[(raw['year']==raw.year.unique()[i-1]) &(raw['customer_email'].\\\n",
    "                                                      isin(list(exist_cust_curyear_df.customer_email.unique()))) ]\n",
    "    rev_exist_cust_prevyear = exist_cust_prevyear_df.groupby('year')[['net_revenue']].sum().reset_index()\n",
    "\n",
    "    growth = rev_exist_cust_curyear['net_revenue'][0]-rev_exist_cust_prevyear['net_revenue'][0]\n",
    "    print(f\"The existing customer revenue in current year {raw.year.unique()[i]}  is {rev_exist_cust_curyear['net_revenue'][0]:.2f}\")\n",
    "    print(f\"The existing customer revenue in previous year {raw.year.unique()[i-1]}  is {rev_exist_cust_prevyear['net_revenue'][0]:.2f}\" )"
   ]
  },
  {
   "cell_type": "markdown",
   "id": "240da3f8",
   "metadata": {},
   "source": [
    "### 7.Total Customers Current Year"
   ]
  },
  {
   "cell_type": "code",
   "execution_count": 251,
   "id": "d35de42b",
   "metadata": {},
   "outputs": [],
   "source": [
    "#raw.groupby(['year']).agg({'year':'count','customer_email':'count'})"
   ]
  },
  {
   "cell_type": "code",
   "execution_count": 252,
   "id": "b21a2889",
   "metadata": {
    "scrolled": true
   },
   "outputs": [
    {
     "name": "stdout",
     "output_type": "stream",
     "text": [
      "Total customers in 2015 is 231294\n",
      "Total customers in 2016 is 204646\n",
      "Total customers in 2017 is 249987\n"
     ]
    }
   ],
   "source": [
    "total_cust = raw.groupby(['year'])[['customer_email']].count().reset_index()\n",
    "total_cust.rename(columns = {'customer_email':'total_customers'},inplace = True)\n",
    "for i in range(len(total_cust)):\n",
    "    print(f'Total customers in {total_cust.iloc[i,0]} is {total_cust.iloc[i,1]}')"
   ]
  },
  {
   "cell_type": "markdown",
   "id": "bfd837a3",
   "metadata": {},
   "source": [
    "### 8.Total customers previous year"
   ]
  },
  {
   "cell_type": "code",
   "execution_count": 253,
   "id": "363c96b6",
   "metadata": {},
   "outputs": [
    {
     "name": "stdout",
     "output_type": "stream",
     "text": [
      "Total customers in 2015 which is previous year to 2016 is 231294\n",
      "Total customers in 2016 which is previous year to 2017 is 204646\n"
     ]
    }
   ],
   "source": [
    "#total_cust = raw.groupby(['year'])[['customer_email']].count().reset_index()\n",
    "for i in range(1,len(total_cust)):\n",
    "    print(f'Total customers in {total_cust.iloc[i-1,0]} which is previous year to {total_cust.iloc[i,0]} is {total_cust.iloc[i-1,1]}')"
   ]
  },
  {
   "cell_type": "markdown",
   "id": "56e0d3cc",
   "metadata": {},
   "source": [
    "### 9.New customers"
   ]
  },
  {
   "cell_type": "code",
   "execution_count": 254,
   "id": "4cf7ac62",
   "metadata": {},
   "outputs": [
    {
     "name": "stdout",
     "output_type": "stream",
     "text": [
      "The new customers in year 2016 is 145062\n",
      "The new customers in year 2017 is 229028\n"
     ]
    }
   ],
   "source": [
    "new_cust_count_a = pd.DataFrame(columns = ['year','new_customers'])\n",
    "for i in range(1,len(raw.year.unique())):\n",
    "    cust_uniq_curyear = list(raw[raw['year']==raw.year.unique()[i]].customer_email.unique())\n",
    "    cust_uniq_prevyear = list(raw[raw['year']==raw.year.unique()[i-1]].customer_email.unique())\n",
    "    new_cust = len(list(set(cust_uniq_curyear)-set(cust_uniq_prevyear)))\n",
    "    new_cust_df = pd.DataFrame({'year':[raw.year.unique()[i]],'new_customers':[new_cust]})\n",
    "    print(f'The new customers in year {raw.year.unique()[i]} is {new_cust}' )\n",
    "    new_cust_count_a = new_cust_count_a.append(new_cust_df,ignore_index=True)"
   ]
  },
  {
   "cell_type": "markdown",
   "id": "3b7ade6f",
   "metadata": {},
   "source": [
    "### 10.Lost Customers"
   ]
  },
  {
   "cell_type": "code",
   "execution_count": 255,
   "id": "f9e46040",
   "metadata": {},
   "outputs": [
    {
     "name": "stdout",
     "output_type": "stream",
     "text": [
      "The customers we lost in year 2016,i.e customers who didn't continue from 2015 are 171710\n",
      "The customers we lost in year 2017,i.e customers who didn't continue from 2016 are 183687\n"
     ]
    }
   ],
   "source": [
    "lost_cust_count_a = pd.DataFrame(columns = ['year','lost_customers'])\n",
    "for i in range(1,len(raw.year.unique())):\n",
    "    cust_uniq_curyear = list(raw[raw['year']==raw.year.unique()[i]].customer_email.unique())\n",
    "    cust_uniq_prevyear = list(raw[raw['year']==raw.year.unique()[i-1]].customer_email.unique())\n",
    "    lost_cust = len(list(set(cust_uniq_prevyear)-set(cust_uniq_curyear)))\n",
    "    lost_cust_df = pd.DataFrame({'year':[raw.year.unique()[i]],'lost_customers':[lost_cust]})\n",
    "    print(f\"The customers we lost in year {raw.year.unique()[i]},i.e customers who didn't continue from {raw.year.unique()[i-1]} are {lost_cust}\" )\n",
    "    lost_cust_count_a = lost_cust_count_a.append(lost_cust_df,ignore_index=True)"
   ]
  },
  {
   "cell_type": "markdown",
   "id": "c814664f",
   "metadata": {},
   "source": [
    "### Visualizations"
   ]
  },
  {
   "cell_type": "code",
   "execution_count": 256,
   "id": "aa1e5e5d",
   "metadata": {},
   "outputs": [],
   "source": [
    "# revenue_by_year\n",
    "# new_cust_a\n",
    "# lost_cust_a\n",
    "# total_cust\n",
    "# new_cust_count_a\n",
    "# lost_cust_count_a\n",
    "year = pd.DataFrame({'year':[2015,2016,2017]})\n",
    "summ = year.merge(revenue_by_year,on='year',how = 'left').\\\n",
    "            merge(new_cust_a,on='year',how = 'left').\\\n",
    "            merge(growth_df_a,on='year',how = 'left').\\\n",
    "            merge(lost_cust_a,on='year',how = 'left').\\\n",
    "            merge(total_cust,on='year',how = 'left').\\\n",
    "            merge(new_cust_count_a,on='year',how = 'left').\\\n",
    "            merge(lost_cust_count_a,on='year',how = 'left')\n",
    "\n"
   ]
  },
  {
   "cell_type": "code",
   "execution_count": 257,
   "id": "59f060d6",
   "metadata": {},
   "outputs": [],
   "source": [
    "summ.fillna(0,inplace=True)\n",
    "summ.loc[summ[\"year\"] == 2015, \"current_revenue_exist_cust\"] = summ.loc[summ[\"year\"] == 2015, \"net_revenue\"]"
   ]
  },
  {
   "cell_type": "code",
   "execution_count": 258,
   "id": "e606a687",
   "metadata": {},
   "outputs": [],
   "source": [
    "summ['existing_cust'] = summ['total_customers']-summ['new_customers']"
   ]
  },
  {
   "cell_type": "code",
   "execution_count": 259,
   "id": "6594019d",
   "metadata": {},
   "outputs": [
    {
     "data": {
      "text/html": [
       "<div>\n",
       "<style scoped>\n",
       "    .dataframe tbody tr th:only-of-type {\n",
       "        vertical-align: middle;\n",
       "    }\n",
       "\n",
       "    .dataframe tbody tr th {\n",
       "        vertical-align: top;\n",
       "    }\n",
       "\n",
       "    .dataframe thead th {\n",
       "        text-align: right;\n",
       "    }\n",
       "</style>\n",
       "<table border=\"1\" class=\"dataframe\">\n",
       "  <thead>\n",
       "    <tr style=\"text-align: right;\">\n",
       "      <th></th>\n",
       "      <th>year</th>\n",
       "      <th>net_revenue</th>\n",
       "      <th>new_cust_revenue</th>\n",
       "      <th>exist_cust_growth</th>\n",
       "      <th>current_revenue_exist_cust</th>\n",
       "      <th>prev_revenue_exist_cust</th>\n",
       "      <th>lost_cust_revenue</th>\n",
       "      <th>total_customers</th>\n",
       "      <th>new_customers</th>\n",
       "      <th>lost_customers</th>\n",
       "      <th>existing_cust</th>\n",
       "    </tr>\n",
       "  </thead>\n",
       "  <tbody>\n",
       "    <tr>\n",
       "      <th>0</th>\n",
       "      <td>2015</td>\n",
       "      <td>29,036,749.19</td>\n",
       "      <td>0.00</td>\n",
       "      <td>0.00</td>\n",
       "      <td>29,036,749.19</td>\n",
       "      <td>0.00</td>\n",
       "      <td>0.00</td>\n",
       "      <td>231294</td>\n",
       "      <td>0</td>\n",
       "      <td>0</td>\n",
       "      <td>231294</td>\n",
       "    </tr>\n",
       "    <tr>\n",
       "      <th>1</th>\n",
       "      <td>2016</td>\n",
       "      <td>25,730,943.59</td>\n",
       "      <td>18,245,491.01</td>\n",
       "      <td>20,335.46</td>\n",
       "      <td>7,485,452.58</td>\n",
       "      <td>7,465,117.12</td>\n",
       "      <td>21,571,632.07</td>\n",
       "      <td>204646</td>\n",
       "      <td>145062</td>\n",
       "      <td>171710</td>\n",
       "      <td>59584</td>\n",
       "    </tr>\n",
       "    <tr>\n",
       "      <th>2</th>\n",
       "      <td>2017</td>\n",
       "      <td>31,417,495.03</td>\n",
       "      <td>28,776,235.04</td>\n",
       "      <td>20,611.34</td>\n",
       "      <td>2,641,259.99</td>\n",
       "      <td>2,620,648.65</td>\n",
       "      <td>23,110,294.94</td>\n",
       "      <td>249987</td>\n",
       "      <td>229028</td>\n",
       "      <td>183687</td>\n",
       "      <td>20959</td>\n",
       "    </tr>\n",
       "  </tbody>\n",
       "</table>\n",
       "</div>"
      ],
      "text/plain": [
       "   year   net_revenue  new_cust_revenue  exist_cust_growth  \\\n",
       "0  2015 29,036,749.19              0.00               0.00   \n",
       "1  2016 25,730,943.59     18,245,491.01          20,335.46   \n",
       "2  2017 31,417,495.03     28,776,235.04          20,611.34   \n",
       "\n",
       "   current_revenue_exist_cust  prev_revenue_exist_cust  lost_cust_revenue  \\\n",
       "0               29,036,749.19                     0.00               0.00   \n",
       "1                7,485,452.58             7,465,117.12      21,571,632.07   \n",
       "2                2,641,259.99             2,620,648.65      23,110,294.94   \n",
       "\n",
       "   total_customers  new_customers  lost_customers  existing_cust  \n",
       "0           231294              0               0         231294  \n",
       "1           204646         145062          171710          59584  \n",
       "2           249987         229028          183687          20959  "
      ]
     },
     "execution_count": 259,
     "metadata": {},
     "output_type": "execute_result"
    }
   ],
   "source": [
    "summ"
   ]
  },
  {
   "cell_type": "markdown",
   "id": "1126e0ee",
   "metadata": {},
   "source": [
    "#### Let's see how our customer retention and customer acquisition is:"
   ]
  },
  {
   "cell_type": "markdown",
   "id": "6b16f00c",
   "metadata": {},
   "source": [
    "- Below bar graph represents:\n",
    "    - Light blue: existing customers from previous year only\n",
    "    - Dark blue: new customers\n",
    "- As we can see, our customer retention is very poor across the years while our strength seems to be new customer acquisition\n",
    "- Growth in number of customers in 2017 is mostly caused by new customers\n",
    "- Generally, customer retention is more easy and cost effective while customer acquisition can be a expensive process\n",
    "- So we should come up with strategies for customer retention\n",
    "\n",
    "\n",
    "- Since the average revenue from customers across years is same, the revenue is only affected by number of customers. More the customers, more the revenue"
   ]
  },
  {
   "cell_type": "code",
   "execution_count": 260,
   "id": "23694d41",
   "metadata": {},
   "outputs": [
    {
     "data": {
      "image/png": "[encoded data removed]",
      "text/plain": [
       "<Figure size 720x360 with 1 Axes>"
      ]
     },
     "metadata": {
      "needs_background": "light"
     },
     "output_type": "display_data"
    }
   ],
   "source": [
    "# bar chart 1 \n",
    "plt.figure(figsize = (10,5))\n",
    "bar1 = sns.barplot(x=\"year\",  y=\"total_customers\", data=summ, color='darkblue')\n",
    "\n",
    "bar2 = sns.barplot(x=\"year\", y=\"existing_cust\", data=summ,color='lightblue')\n",
    "\n",
    "#add legend\n",
    "top_bar = mpatches.Patch(color='darkblue', label='New customers')\n",
    "bottom_bar = mpatches.Patch(color='lightblue', label='Existing customers')\n",
    "plt.legend(handles=[top_bar, bottom_bar])\n",
    "plt.ylabel('Number of customers')\n",
    "\n",
    "plt.show()"
   ]
  },
  {
   "cell_type": "code",
   "execution_count": 261,
   "id": "96b91fea",
   "metadata": {},
   "outputs": [
    {
     "data": {
      "text/plain": [
       "0"
      ]
     },
     "execution_count": 261,
     "metadata": {},
     "output_type": "execute_result"
    }
   ],
   "source": [
    "os.system('jupyter nbconvert --to html Insights_casestudy2.ipynb --no-input')\n"
   ]
  },
  {
   "cell_type": "code",
   "execution_count": null,
   "id": "f74e4933",
   "metadata": {},
   "outputs": [],
   "source": []
  }
 ],
 "metadata": {
  "kernelspec": {
   "display_name": "Python 3",
   "language": "python",
   "name": "python3"
  },
  "language_info": {
   "codemirror_mode": {
    "name": "ipython",
    "version": 3
   },
   "file_extension": ".py",
   "mimetype": "text/x-python",
   "name": "python",
   "nbconvert_exporter": "python",
   "pygments_lexer": "ipython3",
   "version": "3.8.8"
  }
 },
 "nbformat": 4,
 "nbformat_minor": 5
}
