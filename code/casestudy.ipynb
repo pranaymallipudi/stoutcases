{
 "cells": [
  {
   "cell_type": "code",
   "execution_count": 1,
   "id": "4b32ae9d",
   "metadata": {},
   "outputs": [],
   "source": [
    "import pandas as pd\n",
    "import numpy as np\n",
    "from matplotlib import pyplot as plt\n",
    "import seaborn as sns"
   ]
  },
  {
   "cell_type": "markdown",
   "id": "d61f68f9",
   "metadata": {},
   "source": [
    "### Read the raw data"
   ]
  },
  {
   "cell_type": "code",
   "execution_count": 2,
   "id": "b6bb3401",
   "metadata": {},
   "outputs": [],
   "source": [
    "raw = pd.read_csv('casestudy.csv',index_col = 0)"
   ]
  },
  {
   "cell_type": "code",
   "execution_count": 3,
   "id": "8c339a39",
   "metadata": {},
   "outputs": [
    {
     "data": {
      "text/html": [
       "<div>\n",
       "<style scoped>\n",
       "    .dataframe tbody tr th:only-of-type {\n",
       "        vertical-align: middle;\n",
       "    }\n",
       "\n",
       "    .dataframe tbody tr th {\n",
       "        vertical-align: top;\n",
       "    }\n",
       "\n",
       "    .dataframe thead th {\n",
       "        text-align: right;\n",
       "    }\n",
       "</style>\n",
       "<table border=\"1\" class=\"dataframe\">\n",
       "  <thead>\n",
       "    <tr style=\"text-align: right;\">\n",
       "      <th></th>\n",
       "      <th>customer_email</th>\n",
       "      <th>net_revenue</th>\n",
       "      <th>year</th>\n",
       "    </tr>\n",
       "  </thead>\n",
       "  <tbody>\n",
       "    <tr>\n",
       "      <th>0</th>\n",
       "      <td>nhknapwsbx@gmail.com</td>\n",
       "      <td>249.92</td>\n",
       "      <td>2015</td>\n",
       "    </tr>\n",
       "    <tr>\n",
       "      <th>1</th>\n",
       "      <td>joiuzbvcpn@gmail.com</td>\n",
       "      <td>87.61</td>\n",
       "      <td>2015</td>\n",
       "    </tr>\n",
       "    <tr>\n",
       "      <th>2</th>\n",
       "      <td>ukkjctepxt@gmail.com</td>\n",
       "      <td>168.38</td>\n",
       "      <td>2015</td>\n",
       "    </tr>\n",
       "    <tr>\n",
       "      <th>3</th>\n",
       "      <td>gykatilzrt@gmail.com</td>\n",
       "      <td>62.40</td>\n",
       "      <td>2015</td>\n",
       "    </tr>\n",
       "    <tr>\n",
       "      <th>4</th>\n",
       "      <td>mmsgsrtxah@gmail.com</td>\n",
       "      <td>43.08</td>\n",
       "      <td>2015</td>\n",
       "    </tr>\n",
       "  </tbody>\n",
       "</table>\n",
       "</div>"
      ],
      "text/plain": [
       "          customer_email  net_revenue  year\n",
       "0   nhknapwsbx@gmail.com       249.92  2015\n",
       "1   joiuzbvcpn@gmail.com        87.61  2015\n",
       "2   ukkjctepxt@gmail.com       168.38  2015\n",
       "3   gykatilzrt@gmail.com        62.40  2015\n",
       "4   mmsgsrtxah@gmail.com        43.08  2015"
      ]
     },
     "execution_count": 3,
     "metadata": {},
     "output_type": "execute_result"
    }
   ],
   "source": [
    "raw.head()"
   ]
  },
  {
   "cell_type": "markdown",
   "id": "2a0eae32",
   "metadata": {},
   "source": [
    "### expected data types are found"
   ]
  },
  {
   "cell_type": "code",
   "execution_count": 4,
   "id": "3848f41c",
   "metadata": {
    "scrolled": true
   },
   "outputs": [
    {
     "name": "stdout",
     "output_type": "stream",
     "text": [
      "(685927, 3)\n",
      "customer_email     object\n",
      "net_revenue       float64\n",
      "year                int64\n",
      "dtype: object\n"
     ]
    }
   ],
   "source": [
    "print(raw.shape)\n",
    "print(raw.dtypes)"
   ]
  },
  {
   "cell_type": "code",
   "execution_count": 5,
   "id": "b4ac24a8",
   "metadata": {},
   "outputs": [
    {
     "data": {
      "text/html": [
       "<div>\n",
       "<style scoped>\n",
       "    .dataframe tbody tr th:only-of-type {\n",
       "        vertical-align: middle;\n",
       "    }\n",
       "\n",
       "    .dataframe tbody tr th {\n",
       "        vertical-align: top;\n",
       "    }\n",
       "\n",
       "    .dataframe thead th {\n",
       "        text-align: right;\n",
       "    }\n",
       "</style>\n",
       "<table border=\"1\" class=\"dataframe\">\n",
       "  <thead>\n",
       "    <tr style=\"text-align: right;\">\n",
       "      <th></th>\n",
       "      <th>customer_email</th>\n",
       "      <th>net_revenue</th>\n",
       "      <th>year</th>\n",
       "    </tr>\n",
       "  </thead>\n",
       "  <tbody>\n",
       "    <tr>\n",
       "      <th>count</th>\n",
       "      <td>685927</td>\n",
       "      <td>685927.000000</td>\n",
       "      <td>685927.000000</td>\n",
       "    </tr>\n",
       "    <tr>\n",
       "      <th>unique</th>\n",
       "      <td>604618</td>\n",
       "      <td>NaN</td>\n",
       "      <td>NaN</td>\n",
       "    </tr>\n",
       "    <tr>\n",
       "      <th>top</th>\n",
       "      <td>ggzprdeier@gmail.com</td>\n",
       "      <td>NaN</td>\n",
       "      <td>NaN</td>\n",
       "    </tr>\n",
       "    <tr>\n",
       "      <th>freq</th>\n",
       "      <td>3</td>\n",
       "      <td>NaN</td>\n",
       "      <td>NaN</td>\n",
       "    </tr>\n",
       "    <tr>\n",
       "      <th>mean</th>\n",
       "      <td>NaN</td>\n",
       "      <td>125.647755</td>\n",
       "      <td>2016.027252</td>\n",
       "    </tr>\n",
       "    <tr>\n",
       "      <th>std</th>\n",
       "      <td>NaN</td>\n",
       "      <td>71.854528</td>\n",
       "      <td>0.837203</td>\n",
       "    </tr>\n",
       "    <tr>\n",
       "      <th>min</th>\n",
       "      <td>NaN</td>\n",
       "      <td>1.000000</td>\n",
       "      <td>2015.000000</td>\n",
       "    </tr>\n",
       "    <tr>\n",
       "      <th>25%</th>\n",
       "      <td>NaN</td>\n",
       "      <td>63.510000</td>\n",
       "      <td>2015.000000</td>\n",
       "    </tr>\n",
       "    <tr>\n",
       "      <th>50%</th>\n",
       "      <td>NaN</td>\n",
       "      <td>125.730000</td>\n",
       "      <td>2016.000000</td>\n",
       "    </tr>\n",
       "    <tr>\n",
       "      <th>75%</th>\n",
       "      <td>NaN</td>\n",
       "      <td>187.820000</td>\n",
       "      <td>2017.000000</td>\n",
       "    </tr>\n",
       "    <tr>\n",
       "      <th>max</th>\n",
       "      <td>NaN</td>\n",
       "      <td>250.000000</td>\n",
       "      <td>2017.000000</td>\n",
       "    </tr>\n",
       "  </tbody>\n",
       "</table>\n",
       "</div>"
      ],
      "text/plain": [
       "              customer_email    net_revenue           year\n",
       "count                 685927  685927.000000  685927.000000\n",
       "unique                604618            NaN            NaN\n",
       "top     ggzprdeier@gmail.com            NaN            NaN\n",
       "freq                       3            NaN            NaN\n",
       "mean                     NaN     125.647755    2016.027252\n",
       "std                      NaN      71.854528       0.837203\n",
       "min                      NaN       1.000000    2015.000000\n",
       "25%                      NaN      63.510000    2015.000000\n",
       "50%                      NaN     125.730000    2016.000000\n",
       "75%                      NaN     187.820000    2017.000000\n",
       "max                      NaN     250.000000    2017.000000"
      ]
     },
     "execution_count": 5,
     "metadata": {},
     "output_type": "execute_result"
    }
   ],
   "source": [
    "raw.describe(include='all')"
   ]
  },
  {
   "cell_type": "markdown",
   "id": "b134d727",
   "metadata": {},
   "source": [
    "### No missing values in the dataset"
   ]
  },
  {
   "cell_type": "code",
   "execution_count": 6,
   "id": "d7fc6bd6",
   "metadata": {
    "scrolled": true
   },
   "outputs": [
    {
     "data": {
      "text/plain": [
       "customer_email    0.0\n",
       "net_revenue       0.0\n",
       "year              0.0\n",
       "dtype: float64"
      ]
     },
     "execution_count": 6,
     "metadata": {},
     "output_type": "execute_result"
    }
   ],
   "source": [
    "raw.isnull().mean()"
   ]
  },
  {
   "cell_type": "markdown",
   "id": "0d056f5b",
   "metadata": {},
   "source": [
    "### 1. total revenue for the current year"
   ]
  },
  {
   "cell_type": "code",
   "execution_count": 7,
   "id": "3775c035",
   "metadata": {},
   "outputs": [],
   "source": [
    "revenue_by_year = raw.groupby('year')[['net_revenue']].sum().reset_index()"
   ]
  },
  {
   "cell_type": "code",
   "execution_count": 8,
   "id": "faa37a3f",
   "metadata": {},
   "outputs": [
    {
     "data": {
      "text/html": [
       "<div>\n",
       "<style scoped>\n",
       "    .dataframe tbody tr th:only-of-type {\n",
       "        vertical-align: middle;\n",
       "    }\n",
       "\n",
       "    .dataframe tbody tr th {\n",
       "        vertical-align: top;\n",
       "    }\n",
       "\n",
       "    .dataframe thead th {\n",
       "        text-align: right;\n",
       "    }\n",
       "</style>\n",
       "<table border=\"1\" class=\"dataframe\">\n",
       "  <thead>\n",
       "    <tr style=\"text-align: right;\">\n",
       "      <th></th>\n",
       "      <th>year</th>\n",
       "      <th>net_revenue</th>\n",
       "    </tr>\n",
       "  </thead>\n",
       "  <tbody>\n",
       "    <tr>\n",
       "      <th>0</th>\n",
       "      <td>2015</td>\n",
       "      <td>29036749.19</td>\n",
       "    </tr>\n",
       "    <tr>\n",
       "      <th>1</th>\n",
       "      <td>2016</td>\n",
       "      <td>25730943.59</td>\n",
       "    </tr>\n",
       "    <tr>\n",
       "      <th>2</th>\n",
       "      <td>2017</td>\n",
       "      <td>31417495.03</td>\n",
       "    </tr>\n",
       "  </tbody>\n",
       "</table>\n",
       "</div>"
      ],
      "text/plain": [
       "   year  net_revenue\n",
       "0  2015  29036749.19\n",
       "1  2016  25730943.59\n",
       "2  2017  31417495.03"
      ]
     },
     "execution_count": 8,
     "metadata": {},
     "output_type": "execute_result"
    }
   ],
   "source": [
    "revenue_by_year"
   ]
  },
  {
   "cell_type": "code",
   "execution_count": 9,
   "id": "c12a19b5",
   "metadata": {
    "scrolled": true
   },
   "outputs": [
    {
     "name": "stdout",
     "output_type": "stream",
     "text": [
      "The revenue for 2015 is 29036749.18999953\n",
      "The revenue for 2016 is 29036749.18999953\n",
      "The revenue for 2017 is 29036749.18999953\n"
     ]
    }
   ],
   "source": [
    "for i in revenue_by_year.index:\n",
    "     print(f'The revenue for {revenue_by_year.year[i]} is {revenue_by_year.net_revenue[0]}' )"
   ]
  },
  {
   "cell_type": "code",
   "execution_count": 10,
   "id": "dca47572",
   "metadata": {},
   "outputs": [],
   "source": [
    "##using cross tab method\n",
    "#pd.crosstab(raw.year,raw.net_revenue,values = raw.net_revenue,aggfunc='sum',margins='index')[['All']]"
   ]
  },
  {
   "cell_type": "markdown",
   "id": "977563cc",
   "metadata": {},
   "source": [
    "### 2.New Customer Revenue "
   ]
  },
  {
   "cell_type": "markdown",
   "id": "10495096",
   "metadata": {},
   "source": [
    "Logic: get new customers by removing all the email ids in current year which are also present in previous year"
   ]
  },
  {
   "cell_type": "code",
   "execution_count": 11,
   "id": "3a1a022a",
   "metadata": {},
   "outputs": [
    {
     "name": "stdout",
     "output_type": "stream",
     "text": [
      "The new customer revenue from year 2016 is 18245491.010000203\n",
      "The new customer revenue from year 2017 is 28776235.04\n"
     ]
    }
   ],
   "source": [
    "new_cust_a = pd.DataFrame(columns = ['year','net_revenue'])\n",
    "for i in range(1,len(raw.year.unique())):\n",
    "    cust_uniq_curyear = list(raw[raw['year']==raw.year.unique()[i]].customer_email.unique())\n",
    "    cust_uniq_prevyear = list(raw[raw['year']==raw.year.unique()[i-1]].customer_email.unique())\n",
    "    new_cust = list(set(cust_uniq_curyear)-set(cust_uniq_prevyear))\n",
    "    new_cust_df = raw[(raw['year']==raw.year.unique()[i]) & (raw['customer_email'].isin(new_cust))]\\\n",
    "    .groupby('year')[['net_revenue']].sum().reset_index()\n",
    "    print(f'The new customer revenue from year {raw.year.unique()[i]} is {new_cust_df.net_revenue[0]}' )\n",
    "    new_cust_a = new_cust_a.append(new_cust_df,ignore_index=True)\n",
    "new_cust_a.rename(columns = {'net_revenue':'new_cust_revenue'},inplace=True)"
   ]
  },
  {
   "cell_type": "markdown",
   "id": "8dc94b09",
   "metadata": {},
   "source": [
    "### 3.Existing Customer Growth"
   ]
  },
  {
   "cell_type": "markdown",
   "id": "64dfa27b",
   "metadata": {},
   "source": [
    "Logic: \n",
    "- existing customers are customers from last year who are also present in this year\n",
    "- filter above customers in previous year to filter customers who continued till next year\n"
   ]
  },
  {
   "cell_type": "code",
   "execution_count": 12,
   "id": "72dd97be",
   "metadata": {},
   "outputs": [
    {
     "name": "stdout",
     "output_type": "stream",
     "text": [
      "The existing customer growth from 2015 to 2016 is 20335.4599999981\n",
      "The existing customer growth from 2016 to 2017 is 20611.340000017546\n"
     ]
    }
   ],
   "source": [
    "growth_df_a = pd.DataFrame()\n",
    "for i in range(1,len(raw.year.unique())):\n",
    "    cust_uniq_prevyear = list(raw[raw['year']==raw.year.unique()[i-1]].customer_email.unique())\n",
    "    exist_cust_curyear_df = raw[(raw['year']==raw.year.unique()[i])&(raw['customer_email'].isin(cust_uniq_prevyear))]\n",
    "    rev_exist_cust_curyear = exist_cust_curyear_df.groupby('year')[['net_revenue']].sum().reset_index()\n",
    "\n",
    "    exist_cust_prevyear_df = raw[(raw['year']==raw.year.unique()[i-1]) &(raw['customer_email'].\\\n",
    "                                                      isin(list(exist_cust_curyear_df.customer_email.unique()))) ]\n",
    "    rev_exist_cust_prevyear = exist_cust_prevyear_df.groupby('year')[['net_revenue']].sum().reset_index()\n",
    "\n",
    "    growth = rev_exist_cust_curyear['net_revenue'][0]-rev_exist_cust_prevyear['net_revenue'][0]\n",
    "    growth_df = pd.DataFrame({'year':[raw.year.unique()[i]],'exist_cust_growth':[growth],\\\n",
    "                             'current_revenue_exist_cust':[rev_exist_cust_curyear['net_revenue'][0]],\\\n",
    "                              'prev_revenue_exist_cust':[rev_exist_cust_prevyear['net_revenue'][0]]})\n",
    "    growth_df_a = growth_df_a.append(growth_df,ignore_index=True)\n",
    "    print(f'The existing customer growth from {raw.year.unique()[i-1]} to {raw.year.unique()[i]} is {growth}' )\n"
   ]
  },
  {
   "cell_type": "markdown",
   "id": "a80edd81",
   "metadata": {},
   "source": [
    "### 4.Revenue lost from attrition\n",
    "Logic\n",
    "- Total revenue of customers from previous year who didn't continue in current year"
   ]
  },
  {
   "cell_type": "code",
   "execution_count": 13,
   "id": "925a7624",
   "metadata": {},
   "outputs": [
    {
     "name": "stdout",
     "output_type": "stream",
     "text": [
      "Revenue lost from attrition in year 2016 is 21571632.069999415\n",
      "Revenue lost from attrition in year 2017 is 23110294.939999864\n"
     ]
    }
   ],
   "source": [
    "lost_cust_a = pd.DataFrame(columns = ['year','net_revenue'])\n",
    "for i in range(1,len(raw.year.unique())):\n",
    "    cust_uniq_curyear = list(raw[raw['year']==raw.year.unique()[i]].customer_email.unique())\n",
    "    cust_uniq_prevyear = list(raw[raw['year']==raw.year.unique()[i-1]].customer_email.unique())\n",
    "    lost_cust = list(set(cust_uniq_prevyear)-set(cust_uniq_curyear))\n",
    "    lost_cust_df = raw[(raw['year']==raw.year.unique()[i-1]) & (raw['customer_email'].isin(lost_cust))]\\\n",
    "    .groupby('year')[['net_revenue']].sum().reset_index()\n",
    "    lost_cust_df.iloc[0,0] = lost_cust_df.iloc[0,0]+1\n",
    "    print(f'Revenue lost from attrition in year {raw.year.unique()[i]} is {lost_cust_df.net_revenue[0]}' )\n",
    "    lost_cust_a = lost_cust_a.append(lost_cust_df,ignore_index=True)\n",
    "lost_cust_a.rename(columns = {'net_revenue':'lost_cust_revenue'},inplace=True)\n"
   ]
  },
  {
   "attachments": {},
   "cell_type": "markdown",
   "id": "69ce7a4a",
   "metadata": {},
   "source": [
    "### 5.Existing Customer Revenue Current Year & 6.Existing Customer Revenue Prior Year"
   ]
  },
  {
   "cell_type": "markdown",
   "id": "ce31e3f2",
   "metadata": {},
   "source": [
    "Logic\n",
    "- revenue of customers in current year who continued from past year"
   ]
  },
  {
   "cell_type": "code",
   "execution_count": 14,
   "id": "32d19826",
   "metadata": {},
   "outputs": [
    {
     "name": "stdout",
     "output_type": "stream",
     "text": [
      "The existing customer revenue in current year 2016  is 7485452.5800000075\n",
      "The existing customer revenue in previous year 2015  is 7465117.120000009\n",
      "The existing customer revenue in current year 2017  is 2641259.990000008\n",
      "The existing customer revenue in previous year 2016  is 2620648.6499999906\n"
     ]
    }
   ],
   "source": [
    "for i in range(1,len(raw.year.unique())):\n",
    "    cust_uniq_prevyear = list(raw[raw['year']==raw.year.unique()[i-1]].customer_email.unique())\n",
    "    exist_cust_curyear_df = raw[(raw['year']==raw.year.unique()[i])&(raw['customer_email'].isin(cust_uniq_prevyear))]\n",
    "    rev_exist_cust_curyear = exist_cust_curyear_df.groupby('year')[['net_revenue']].sum().reset_index()\n",
    "\n",
    "    exist_cust_prevyear_df = raw[(raw['year']==raw.year.unique()[i-1]) &(raw['customer_email'].\\\n",
    "                                                      isin(list(exist_cust_curyear_df.customer_email.unique()))) ]\n",
    "    rev_exist_cust_prevyear = exist_cust_prevyear_df.groupby('year')[['net_revenue']].sum().reset_index()\n",
    "\n",
    "    growth = rev_exist_cust_curyear['net_revenue'][0]-rev_exist_cust_prevyear['net_revenue'][0]\n",
    "    print(f\"The existing customer revenue in current year {raw.year.unique()[i]}  is {rev_exist_cust_curyear['net_revenue'][0]}\")\n",
    "    print(f\"The existing customer revenue in previous year {raw.year.unique()[i-1]}  is {rev_exist_cust_prevyear['net_revenue'][0]}\" )"
   ]
  },
  {
   "cell_type": "markdown",
   "id": "240da3f8",
   "metadata": {},
   "source": [
    "### 7.Total Customers Current Year\n",
    "- Number of customers in each year are unique"
   ]
  },
  {
   "cell_type": "code",
   "execution_count": 15,
   "id": "d35de42b",
   "metadata": {},
   "outputs": [
    {
     "data": {
      "text/html": [
       "<div>\n",
       "<style scoped>\n",
       "    .dataframe tbody tr th:only-of-type {\n",
       "        vertical-align: middle;\n",
       "    }\n",
       "\n",
       "    .dataframe tbody tr th {\n",
       "        vertical-align: top;\n",
       "    }\n",
       "\n",
       "    .dataframe thead th {\n",
       "        text-align: right;\n",
       "    }\n",
       "</style>\n",
       "<table border=\"1\" class=\"dataframe\">\n",
       "  <thead>\n",
       "    <tr style=\"text-align: right;\">\n",
       "      <th></th>\n",
       "      <th>year</th>\n",
       "      <th>customer_email</th>\n",
       "    </tr>\n",
       "    <tr>\n",
       "      <th>year</th>\n",
       "      <th></th>\n",
       "      <th></th>\n",
       "    </tr>\n",
       "  </thead>\n",
       "  <tbody>\n",
       "    <tr>\n",
       "      <th>2015</th>\n",
       "      <td>231294</td>\n",
       "      <td>231294</td>\n",
       "    </tr>\n",
       "    <tr>\n",
       "      <th>2016</th>\n",
       "      <td>204646</td>\n",
       "      <td>204646</td>\n",
       "    </tr>\n",
       "    <tr>\n",
       "      <th>2017</th>\n",
       "      <td>249987</td>\n",
       "      <td>249987</td>\n",
       "    </tr>\n",
       "  </tbody>\n",
       "</table>\n",
       "</div>"
      ],
      "text/plain": [
       "        year  customer_email\n",
       "year                        \n",
       "2015  231294          231294\n",
       "2016  204646          204646\n",
       "2017  249987          249987"
      ]
     },
     "execution_count": 15,
     "metadata": {},
     "output_type": "execute_result"
    }
   ],
   "source": [
    "raw.groupby(['year']).agg({'year':'count','customer_email':'count'})"
   ]
  },
  {
   "cell_type": "code",
   "execution_count": 16,
   "id": "b21a2889",
   "metadata": {
    "scrolled": true
   },
   "outputs": [
    {
     "name": "stdout",
     "output_type": "stream",
     "text": [
      "Total customers in 2015 is 231294\n",
      "Total customers in 2016 is 204646\n",
      "Total customers in 2017 is 249987\n"
     ]
    }
   ],
   "source": [
    "total_cust = raw.groupby(['year'])[['customer_email']].count().reset_index()\n",
    "total_cust.rename({'customer_email':'total_customers'},inplace = True)\n",
    "for i in range(len(total_cust)):\n",
    "    print(f'Total customers in {total_cust.iloc[i,0]} is {total_cust.iloc[i,1]}')"
   ]
  },
  {
   "cell_type": "markdown",
   "id": "bfd837a3",
   "metadata": {},
   "source": [
    "### 8.Total customers previous year"
   ]
  },
  {
   "cell_type": "code",
   "execution_count": 17,
   "id": "363c96b6",
   "metadata": {},
   "outputs": [
    {
     "name": "stdout",
     "output_type": "stream",
     "text": [
      "Total customers in 2015 which is previous year to 2016 is 231294\n",
      "Total customers in 2016 which is previous year to 2017 is 204646\n"
     ]
    }
   ],
   "source": [
    "total_cust = raw.groupby(['year'])[['customer_email']].count().reset_index()\n",
    "for i in range(1,len(total_cust)):\n",
    "    print(f'Total customers in {total_cust.iloc[i-1,0]} which is previous year to {total_cust.iloc[i,0]} is {total_cust.iloc[i-1,1]}')"
   ]
  },
  {
   "cell_type": "markdown",
   "id": "56e0d3cc",
   "metadata": {},
   "source": [
    "### 9.New customers"
   ]
  },
  {
   "cell_type": "code",
   "execution_count": 18,
   "id": "4cf7ac62",
   "metadata": {},
   "outputs": [
    {
     "name": "stdout",
     "output_type": "stream",
     "text": [
      "The new customers in year 2016 is 145062\n",
      "The new customers in year 2017 is 229028\n"
     ]
    }
   ],
   "source": [
    "new_cust_count_a = pd.DataFrame(columns = ['year','new_customers'])\n",
    "for i in range(1,len(raw.year.unique())):\n",
    "    cust_uniq_curyear = list(raw[raw['year']==raw.year.unique()[i]].customer_email.unique())\n",
    "    cust_uniq_prevyear = list(raw[raw['year']==raw.year.unique()[i-1]].customer_email.unique())\n",
    "    new_cust = len(list(set(cust_uniq_curyear)-set(cust_uniq_prevyear)))\n",
    "    new_cust_df = pd.DataFrame({'year':[raw.year.unique()[i]],'new_customers':[new_cust]})\n",
    "    print(f'The new customers in year {raw.year.unique()[i]} is {new_cust}' )\n",
    "    new_cust_count_a = new_cust_count_a.append(new_cust_df,ignore_index=True)"
   ]
  },
  {
   "cell_type": "markdown",
   "id": "3b7ade6f",
   "metadata": {},
   "source": [
    "### 10.Lost Customers"
   ]
  },
  {
   "cell_type": "code",
   "execution_count": 19,
   "id": "f9e46040",
   "metadata": {},
   "outputs": [
    {
     "name": "stdout",
     "output_type": "stream",
     "text": [
      "The lost customers in year 2016 is 229028\n",
      "The lost customers in year 2017 is 229028\n"
     ]
    }
   ],
   "source": [
    "lost_cust_count_a = pd.DataFrame(columns = ['year','lost_customers'])\n",
    "for i in range(1,len(raw.year.unique())):\n",
    "    cust_uniq_curyear = list(raw[raw['year']==raw.year.unique()[i]].customer_email.unique())\n",
    "    cust_uniq_prevyear = list(raw[raw['year']==raw.year.unique()[i-1]].customer_email.unique())\n",
    "    lost_cust = len(list(set(cust_uniq_prevyear)-set(cust_uniq_curyear)))\n",
    "    lost_cust_df = pd.DataFrame({'year':[raw.year.unique()[i]],'lost_customers':[lost_cust]})\n",
    "    print(f'The lost customers in year {raw.year.unique()[i]} is {new_cust}' )\n",
    "    lost_cust_count_a = lost_cust_count_a.append(lost_cust_df,ignore_index=True)"
   ]
  },
  {
   "cell_type": "markdown",
   "id": "c814664f",
   "metadata": {},
   "source": [
    "### Visualizations"
   ]
  },
  {
   "cell_type": "code",
   "execution_count": 24,
   "id": "aa1e5e5d",
   "metadata": {},
   "outputs": [],
   "source": [
    "# revenue_by_year\n",
    "# new_cust_a\n",
    "# lost_cust_a\n",
    "# total_cust\n",
    "# new_cust_count_a\n",
    "# lost_cust_count_a\n",
    "year = pd.DataFrame({'year':[2015,2016,2017]})\n",
    "summ = year.merge(revenue_by_year,on='year',how = 'left').\\\n",
    "            merge(new_cust_a,on='year',how = 'left').\\\n",
    "            merge(growth_df_a,on='year',how = 'left').\\\n",
    "            merge(lost_cust_a,on='year',how = 'left').\\\n",
    "            merge(total_cust,on='year',how = 'left').\\\n",
    "            merge(new_cust_count_a,on='year',how = 'left').\\\n",
    "            merge(lost_cust_count_a,on='year',how = 'left')\n",
    "\n"
   ]
  },
  {
   "cell_type": "code",
   "execution_count": 23,
   "id": "46298a24",
   "metadata": {},
   "outputs": [],
   "source": [
    "summ.to_csv('summ.csv')"
   ]
  },
  {
   "cell_type": "code",
   "execution_count": 25,
   "id": "d964de5d",
   "metadata": {
    "scrolled": true
   },
   "outputs": [
    {
     "data": {
      "text/html": [
       "<div>\n",
       "<style scoped>\n",
       "    .dataframe tbody tr th:only-of-type {\n",
       "        vertical-align: middle;\n",
       "    }\n",
       "\n",
       "    .dataframe tbody tr th {\n",
       "        vertical-align: top;\n",
       "    }\n",
       "\n",
       "    .dataframe thead th {\n",
       "        text-align: right;\n",
       "    }\n",
       "</style>\n",
       "<table border=\"1\" class=\"dataframe\">\n",
       "  <thead>\n",
       "    <tr style=\"text-align: right;\">\n",
       "      <th></th>\n",
       "      <th>year</th>\n",
       "      <th>net_revenue</th>\n",
       "      <th>new_cust_revenue</th>\n",
       "      <th>exist_cust_growth</th>\n",
       "      <th>current_revenue_exist_cust</th>\n",
       "      <th>prev_revenue_exist_cust</th>\n",
       "      <th>lost_cust_revenue</th>\n",
       "      <th>customer_email</th>\n",
       "      <th>new_customers</th>\n",
       "      <th>lost_customers</th>\n",
       "    </tr>\n",
       "  </thead>\n",
       "  <tbody>\n",
       "    <tr>\n",
       "      <th>0</th>\n",
       "      <td>2015</td>\n",
       "      <td>29036749.19</td>\n",
       "      <td>NaN</td>\n",
       "      <td>NaN</td>\n",
       "      <td>NaN</td>\n",
       "      <td>NaN</td>\n",
       "      <td>NaN</td>\n",
       "      <td>231294</td>\n",
       "      <td>NaN</td>\n",
       "      <td>NaN</td>\n",
       "    </tr>\n",
       "    <tr>\n",
       "      <th>1</th>\n",
       "      <td>2016</td>\n",
       "      <td>25730943.59</td>\n",
       "      <td>18245491.01</td>\n",
       "      <td>20335.46</td>\n",
       "      <td>7485452.58</td>\n",
       "      <td>7465117.12</td>\n",
       "      <td>2.157163e+07</td>\n",
       "      <td>204646</td>\n",
       "      <td>145062</td>\n",
       "      <td>171710</td>\n",
       "    </tr>\n",
       "    <tr>\n",
       "      <th>2</th>\n",
       "      <td>2017</td>\n",
       "      <td>31417495.03</td>\n",
       "      <td>28776235.04</td>\n",
       "      <td>20611.34</td>\n",
       "      <td>2641259.99</td>\n",
       "      <td>2620648.65</td>\n",
       "      <td>2.311029e+07</td>\n",
       "      <td>249987</td>\n",
       "      <td>229028</td>\n",
       "      <td>183687</td>\n",
       "    </tr>\n",
       "  </tbody>\n",
       "</table>\n",
       "</div>"
      ],
      "text/plain": [
       "   year  net_revenue  new_cust_revenue  exist_cust_growth  \\\n",
       "0  2015  29036749.19               NaN                NaN   \n",
       "1  2016  25730943.59       18245491.01           20335.46   \n",
       "2  2017  31417495.03       28776235.04           20611.34   \n",
       "\n",
       "   current_revenue_exist_cust  prev_revenue_exist_cust  lost_cust_revenue  \\\n",
       "0                         NaN                      NaN                NaN   \n",
       "1                  7485452.58               7465117.12       2.157163e+07   \n",
       "2                  2641259.99               2620648.65       2.311029e+07   \n",
       "\n",
       "   customer_email new_customers lost_customers  \n",
       "0          231294           NaN            NaN  \n",
       "1          204646        145062         171710  \n",
       "2          249987        229028         183687  "
      ]
     },
     "execution_count": 25,
     "metadata": {},
     "output_type": "execute_result"
    }
   ],
   "source": [
    "summ"
   ]
  },
  {
   "cell_type": "code",
   "execution_count": 39,
   "id": "c3386926",
   "metadata": {},
   "outputs": [
    {
     "data": {
      "text/plain": [
       "<AxesSubplot:xlabel='year', ylabel='net_revenue'>"
      ]
     },
     "execution_count": 39,
     "metadata": {},
     "output_type": "execute_result"
    },
    {
     "data": {
      "image/png": "[encoded data removed]",
      "text/plain": [
       "<Figure size 432x288 with 1 Axes>"
      ]
     },
     "metadata": {
      "needs_background": "light"
     },
     "output_type": "display_data"
    }
   ],
   "source": [
    "sns.barplot(data=summ,x='year',y='net_revenue')"
   ]
  },
  {
   "cell_type": "code",
   "execution_count": 41,
   "id": "96b91fea",
   "metadata": {},
   "outputs": [
    {
     "data": {
      "text/plain": [
       "0"
      ]
     },
     "execution_count": 41,
     "metadata": {},
     "output_type": "execute_result"
    }
   ],
   "source": [
    "import os\n",
    "\n",
    "os.system('jupyter nbconvert --to html casestudy.ipynb')"
   ]
  },
  {
   "cell_type": "code",
   "execution_count": null,
   "id": "abdc4266",
   "metadata": {},
   "outputs": [],
   "source": []
  }
 ],
 "metadata": {
  "kernelspec": {
   "display_name": "Python 3",
   "language": "python",
   "name": "python3"
  },
  "language_info": {
   "codemirror_mode": {
    "name": "ipython",
    "version": 3
   },
   "file_extension": ".py",
   "mimetype": "text/x-python",
   "name": "python",
   "nbconvert_exporter": "python",
   "pygments_lexer": "ipython3",
   "version": "3.8.8"
  }
 },
 "nbformat": 4,
 "nbformat_minor": 5
}
